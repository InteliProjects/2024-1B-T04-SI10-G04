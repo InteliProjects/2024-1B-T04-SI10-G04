{
  "nbformat": 4,
  "nbformat_minor": 0,
  "metadata": {
    "colab": {
      "provenance": []
    },
    "kernelspec": {
      "name": "python3",
      "display_name": "Python 3 (ipykernel)",
      "language": "python"
    },
    "language_info": {
      "name": "python"
    }
  },
  "cells": [
    {
      "cell_type": "markdown",
      "source": [
        "## Importando as bibliotecas"
      ],
      "metadata": {
        "id": "fvIrGiYNtn0I"
      }
    },
    {
      "cell_type": "code",
      "metadata": {
        "id": "9KyQDnTR_OsS",
        "ExecuteTime": {
          "end_time": "2024-05-13T02:22:00.214387Z",
          "start_time": "2024-05-13T02:22:00.204240Z"
        }
      },
      "source": [
        "import pandas as pd\n",
        "import numpy as np\n",
        "import random"
      ],
      "outputs": [],
      "execution_count": 1
    },
    {
      "cell_type": "code",
      "source": [
        "# Código para quem não tem endereço de email do Inteli, só colocar o link e id do arquivo\n",
        "\n",
        "#import gdown\n",
        "#arquivo_destino_colab = \"dataset.csv\"\n",
        "\n",
        "# https://drive.google.com/drive/folders/11gFZUmhu6Arzk_IqqOD9lRX9Re6bIzVL?usp=sharing\n",
        "#doc_id = \"11gFZUmhu6Arzk_IqqOD9lRX9Re6bIzVL\"\n",
        "\n",
        "#URL = f\"https://drive.google.com/uc?id={doc_id}\"\n",
        "\n",
        "#gdown.download(URL, arquivo_destino_colab, quiet=False)\n",
        "\n",
        "#df = pd.read_csv(f\"/content/{arquivo_destino_colab}\", sep=\";\")\n",
        "\n",
        "#df.head()"
      ],
      "metadata": {
        "id": "VQI4udEVUrpn",
        "ExecuteTime": {
          "end_time": "2024-05-13T02:22:00.798195Z",
          "start_time": "2024-05-13T02:22:00.795162Z"
        }
      },
      "outputs": [],
      "execution_count": 2
    },
    {
      "cell_type": "code",
      "source": [
        "from google.colab import drive\n",
        "drive.mount('/content/drive')"
      ],
      "metadata": {
        "colab": {
          "base_uri": "https://localhost:8080/",
          "height": 0
        },
        "id": "YvUbeEJuAhG6",
        "outputId": "107137cf-f0eb-4a6e-8d99-12e83a866ebd",
        "ExecuteTime": {
          "end_time": "2024-05-13T02:22:20.342877Z",
          "start_time": "2024-05-13T02:22:20.329478Z"
        }
      },
      "outputs": [
        {
          "output_type": "stream",
          "name": "stdout",
          "text": [
            "Mounted at /content/drive\n"
          ]
        }
      ],
      "execution_count": 3
    },
    {
      "cell_type": "markdown",
      "source": [
        "## Importação das Tabelas de 2023 e 2024"
      ],
      "metadata": {
        "id": "zPookrC-FxTD"
      }
    },
    {
      "cell_type": "code",
      "source": [
        "ga_universal_2019a2022 = pd.read_csv('/content/drive/Shareddrives/M10_SI/ga_universal_2019a2022.csv')\n",
        "acesso_eventos_2023 = pd.read_csv('/content/drive/Shareddrives/M10_SI/acessos_eventos_2023.csv')\n",
        "acessos_fontes_2024 = pd.read_csv('/content/drive/Shareddrives/M10_SI/acessos_fontes_2024.csv')\n",
        "age_sessions_big_numbers_2024 = pd.read_csv('/content/drive/Shareddrives/M10_SI/age_sessions_big_numbers_2024.csv')\n",
        "hour_users_big_numbers_2024 = pd.read_csv('/content/drive/Shareddrives/M10_SI/hour_users_big_numbers_2024.csv')\n",
        "week_users_big_numbers_2024 = pd.read_csv('/content/drive/Shareddrives/M10_SI/week_users_big_numbers_2024.csv')\n",
        "google_ads_2023 = pd.read_csv('/content/drive/Shareddrives/M10_SI/google_ads_2023.csv')\n",
        "country_city_views_big_numbers_2023 = pd.read_csv('/content/drive/Shareddrives/M10_SI/country_city_views_big_numbers_2023.csv')\n",
        "country_city_views_big_numbers_2024 = pd.read_csv('/content/drive/Shareddrives/M10_SI/country_city_views_big_numbers_2024.csv')\n",
        "ga_universal_2023 = pd.read_csv('/content/drive/Shareddrives/M10_SI/ga_universal_2023.csv')\n",
        "acessos_fontes_2023 = pd.read_csv('/content/drive/Shareddrives/M10_SI/acessos_fontes_2023.csv')\n",
        "age_sessions_big_numbers_2023 = pd.read_csv('/content/drive/Shareddrives/M10_SI/age_sessions_big_numbers_2023.csv')\n",
        "hour_users_big_numbers_2023 = pd.read_csv('/content/drive/Shareddrives/M10_SI/hour_users_big_numbers_2023.csv')\n",
        "week_users_big_numbers_2023 = pd.read_csv('/content/drive/Shareddrives/M10_SI/week_users_big_numbers_2023.csv')\n",
        "acessos_geral_2023 = pd.read_csv('/content/drive/Shareddrives/M10_SI/acessos_geral_2023.csv')\n",
        "# acessos_geral_2024 = pd.read_csv('/content/drive/Shareddrives/M10_SI/acessos_geral_2024.csv')\n",
        "users_country_big_numbers_geo_2023 = pd.read_csv('/content/drive/Shareddrives/M10_SI/users_country_big_numbers_geo_2023.csv')\n",
        "users_country_big_numbers_geo_2024 = pd.read_csv('/content/drive/Shareddrives/M10_SI/users_country_big_numbers_geo_2024.csv')"
      ],
      "metadata": {
        "id": "tExCX9qPJUiA"
      },
      "execution_count": 4,
      "outputs": []
    },
    {
      "cell_type": "markdown",
      "source": [
        "## Correlação tempo e semana com monte Monte Carlo\n",
        "\n",
        "### O algoritmo desenvolvido tem como propósito a realização de uma análise estatística detalhada sobre distribuições de probabilidade de eventos em um conjunto de dados, utilizando o método de simulação de Monte Carlo. Este método é útil para modelar fenômenos com grande número de variáveis e calcular probabilidades complexas."
      ],
      "metadata": {
        "id": "Y4hNptXrrB7m"
      }
    },
    {
      "cell_type": "markdown",
      "source": [
        "##### **Funções Auxiliares**\n",
        "Função calcular_prob: Calcula a distribuição de probabilidade para uma coluna específica de um DataFrame."
      ],
      "metadata": {
        "id": "N5BK4xdH_UJG"
      }
    },
    {
      "cell_type": "code",
      "source": [
        "def calcular_prob(df, index, value):\n",
        "  '''\n",
        "  Função calcular_prob: Calcula a distribuição de probabilidade para uma coluna específica de um DataFrame.\n",
        "  '''\n",
        "  res = {}\n",
        "  df_dict = df.set_index(index).to_dict()[value]\n",
        "  total = sum(df_dict.values())\n",
        "  for chave, valor in df_dict.items():\n",
        "    res[chave] = valor/total\n",
        "\n",
        "\n",
        "  if sum(res.values()) != 1:\n",
        "    res[\"margem de erro\"] = 1 - sum(res.values())\n",
        "\n",
        "  return res"
      ],
      "metadata": {
        "id": "0BwXRWMNsda3"
      },
      "execution_count": 5,
      "outputs": []
    },
    {
      "cell_type": "markdown",
      "source": [
        "##### **Classes**\n",
        "\n",
        "Classe Camada: Representa uma camada de decisão dentro do modelo de Monte Carlo. Cada camada possui uma lista de probabilidades e uma lista de alternativas correspondentes.\n",
        "\n",
        "Classe GaltonBoard: Utiliza múltiplas camadas para simular trajetórias através de um processo estocástico, reproduzindo a aleatoriedade do fenômeno estudado."
      ],
      "metadata": {
        "id": "lw3Mqf3l2efn"
      }
    },
    {
      "cell_type": "code",
      "source": [
        "import numpy as np\n",
        "from typing import List\n",
        "\n",
        "\n",
        "class Camada:\n",
        "    def __init__(self, probs: list, alternativas: list):\n",
        "        self.probs = probs\n",
        "        self.alternativas = list(map(str, alternativas))\n",
        "\n",
        "        if sum(probs) != 1:\n",
        "            raise Exception(\"A soma das probabilidades deve resultar em 1\")\n",
        "\n",
        "        if len(probs) != len(alternativas):\n",
        "            raise Exception(\"Deve conter a mesma quantidade probabilidades e alternativas\")\n",
        "\n",
        "\n",
        "class GaltonBoard:\n",
        "    def __init__(self):\n",
        "        self.camadas = []\n",
        "\n",
        "    def adicionar_camadas(self, camadas: List[Camada]):\n",
        "        self.camadas.extend(camadas)\n",
        "\n",
        "    def simular_montecarlo(self, num_iteracoes):\n",
        "        if len(self.camadas) == 0:\n",
        "            raise Exception(\"é necessário adicionar uma camada para fazer a simulação\")\n",
        "\n",
        "        todas_escolhas = {}\n",
        "        for _ in range(num_iteracoes):\n",
        "            caminho_percorrido = []\n",
        "            for camada in self.camadas:\n",
        "                ramificacao_escolida = np.random.choice(camada.alternativas, p= camada.probs)\n",
        "                caminho_percorrido.append(ramificacao_escolida)\n",
        "\n",
        "            caminho_percorrido_str = \" - \".join(caminho_percorrido)\n",
        "\n",
        "            if caminho_percorrido_str not in todas_escolhas.keys():\n",
        "                todas_escolhas[caminho_percorrido_str] = 1\n",
        "\n",
        "            else:\n",
        "                todas_escolhas[caminho_percorrido_str] += 1\n",
        "\n",
        "        return todas_escolhas\n",
        ""
      ],
      "metadata": {
        "id": "zNKiZ0SHvFHZ"
      },
      "execution_count": 6,
      "outputs": []
    },
    {
      "cell_type": "markdown",
      "source": [
        "##### **Utilização**\n",
        "\n",
        "Para utilizar o algoritmo, primeiramente são calculadas as probabilidades para diversas variáveis (como dia da semana, hora, idade e cidade) e, em seguida, essas probabilidades são usadas para configurar as camadas de decisão do modelo de Monte Carlo. A simulação é então executada para um número específico de iterações, produzindo um conjunto de possíveis resultados e suas frequências. Esta abordagem é especialmente útil para entender padrões complexos e simular cenários futuros baseados em dados históricos."
      ],
      "metadata": {
        "id": "ZT5iI8j320x9"
      }
    },
    {
      "cell_type": "code",
      "source": [
        "probs_dia = calcular_prob(week_users_big_numbers_2023, \"Day of week\", \"Active users\")\n",
        "probs_hora = calcular_prob(hour_users_big_numbers_2023, \"Hour\", \"Active users\")\n",
        "probs_idade = calcular_prob(age_sessions_big_numbers_2023, \"Age\", \"Sessions\" )\n",
        "probs_cidades = calcular_prob(country_city_views_big_numbers_2023, \"City\", \"Views\")"
      ],
      "metadata": {
        "id": "je60xNuovwdh"
      },
      "execution_count": 7,
      "outputs": []
    },
    {
      "cell_type": "code",
      "source": [
        "dia = Camada(alternativas = list(probs_dia.keys()), probs = list(probs_dia.values()))\n",
        "hora = Camada(alternativas = list(probs_hora.keys()), probs = list(probs_hora.values()))\n",
        "idade = Camada(alternativas = list(probs_idade.keys()), probs = list(probs_idade.values()))\n",
        "cidade = Camada(alternativas = list(probs_cidades.keys()), probs = list(probs_cidades.values()))"
      ],
      "metadata": {
        "id": "j1LkXIEGvTG8"
      },
      "execution_count": 9,
      "outputs": []
    },
    {
      "cell_type": "code",
      "source": [
        "x = GaltonBoard()"
      ],
      "metadata": {
        "id": "V3H_83NCwJn9"
      },
      "execution_count": 34,
      "outputs": []
    },
    {
      "cell_type": "code",
      "source": [
        "x.adicionar_camadas([dia, hora, idade, cidade])"
      ],
      "metadata": {
        "id": "x5_2-SOKwMs8"
      },
      "execution_count": 35,
      "outputs": []
    },
    {
      "cell_type": "code",
      "source": [
        "resultados = x.simular_montecarlo(100000)"
      ],
      "metadata": {
        "collapsed": true,
        "id": "UK3yQUsKwUFT"
      },
      "execution_count": 36,
      "outputs": []
    },
    {
      "cell_type": "code",
      "source": [
        "def obter_maiores_probs(resultado_da_simulacao: dict, quantidade):\n",
        "  valores = []\n",
        "  for chave, valor in resultado_da_simulacao.items():\n",
        "    valores.append((chave, valor))\n",
        "\n",
        "  maiores_valores = sorted(valores, key= lambda x: x[1], reverse = True)[:quantidade]\n",
        "\n",
        "  return maiores_valores"
      ],
      "metadata": {
        "id": "0w9L7rMtxyR-"
      },
      "execution_count": 37,
      "outputs": []
    },
    {
      "cell_type": "code",
      "source": [
        "obter_maiores_probs(resultados, 10)"
      ],
      "metadata": {
        "id": "s6vDBgOc46jE",
        "colab": {
          "base_uri": "https://localhost:8080/",
          "height": 0
        },
        "outputId": "23c3b518-f306-4fde-9288-ffe2d72af3cc",
        "collapsed": true
      },
      "execution_count": 48,
      "outputs": [
        {
          "output_type": "execute_result",
          "data": {
            "text/plain": [
              "[('4 - 20 - unknown - Sao Paulo', 107),\n",
              " ('6 - 21 - unknown - Sao Paulo', 97),\n",
              " ('3 - 19 - unknown - Sao Paulo', 87),\n",
              " ('3 - 20 - unknown - Sao Paulo', 86),\n",
              " ('2 - 20 - unknown - Sao Paulo', 86),\n",
              " ('6 - 20 - unknown - Sao Paulo', 85),\n",
              " ('5 - 20 - unknown - Sao Paulo', 84),\n",
              " ('3 - 18 - unknown - Sao Paulo', 84),\n",
              " ('1 - 22 - unknown - Sao Paulo', 82),\n",
              " ('5 - 19 - unknown - Sao Paulo', 80)]"
            ]
          },
          "metadata": {},
          "execution_count": 48
        }
      ]
    },
    {
      "cell_type": "code",
      "source": [
        "def obter_manores_probs(probConjunta: dict, quantidade):\n",
        "  valores = []\n",
        "  for chave, valor in probConjunta.items():\n",
        "    valores.append((chave, valor))\n",
        "\n",
        "  maiores_valores = sorted(valores, key= lambda x: x[1])[:quantidade]\n",
        "\n",
        "  return maiores_valores"
      ],
      "metadata": {
        "id": "lRkGKHKL5Ta2",
        "ExecuteTime": {
          "end_time": "2024-05-13T02:20:49.267027Z",
          "start_time": "2024-05-13T02:20:49.264415Z"
        }
      },
      "outputs": [],
      "execution_count": 17
    },
    {
      "cell_type": "code",
      "source": [
        "obter_manores_probs(resultados, 10)"
      ],
      "metadata": {
        "id": "uok0W1ZK5e6r",
        "colab": {
          "base_uri": "https://localhost:8080/",
          "height": 0
        },
        "outputId": "0de7302e-d457-415b-c28e-6934c205d971",
        "ExecuteTime": {
          "end_time": "2024-05-13T02:20:58.764458Z",
          "start_time": "2024-05-13T02:20:58.757480Z"
        }
      },
      "outputs": [
        {
          "output_type": "execute_result",
          "data": {
            "text/plain": [
              "[('6 - 12 - unknown - Guaiba', 1),\n",
              " ('3 - 7 - unknown - Maringa', 1),\n",
              " ('6 - 8 - unknown - Uruguaiana', 1),\n",
              " ('6 - 6 - unknown - Parobe', 1),\n",
              " ('5 - 16 - 35-44 - Lisbon', 1),\n",
              " ('4 - 16 - 25-34 - Sao Bernardo do Campo', 1),\n",
              " ('1 - 23 - 25-34 - Petrolina', 1),\n",
              " ('5 - 22 - unknown - Maraba', 1),\n",
              " ('2 - 15 - 35-44 - Fortaleza', 1),\n",
              " ('1 - 15 - unknown - Sananduva', 1)]"
            ]
          },
          "metadata": {},
          "execution_count": 18
        }
      ],
      "execution_count": 18
    }
  ]
}