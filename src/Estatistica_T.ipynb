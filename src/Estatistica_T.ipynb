{
  "nbformat": 4,
  "nbformat_minor": 0,
  "metadata": {
    "colab": {
      "provenance": []
    },
    "kernelspec": {
      "name": "python3",
      "display_name": "Python 3"
    },
    "language_info": {
      "name": "python"
    }
  },
  "cells": [
    {
      "cell_type": "code",
      "source": [
        "import scipy.stats as stats\n",
        "import numpy as np\n",
        "\n",
        "# Dados fornecidos\n",
        "dados = {\n",
        "    \"TOTAL\": {\"Sessões\": 6491, \"Conversões\": 541, \"%CR\": \"8,3%\"},\n",
        "    \"G1\": {\"Sessões\": 460, \"Conversões\": 28, \"%CR\": \"6,1%\"},\n",
        "    \"G2\": {\"Sessões\": 303, \"Conversões\": 19, \"%CR\": \"6,3%\"},\n",
        "    \"G3\": {\"Sessões\": 443, \"Conversões\": 26, \"%CR\": \"5,9%\"},\n",
        "    \"G4\": {\"Sessões\": 309, \"Conversões\": 19, \"%CR\": \"6,1%\"},\n",
        "    \"G5\": {\"Sessões\": 278, \"Conversões\": 15, \"%CR\": \"5,4%\"},\n",
        "    \"Proporção A/B\": \"20,74%\"\n",
        "}\n",
        "\n",
        "# Extraindo dados\n",
        "sessoes = np.array([dados[key][\"Sessões\"] for key in [\"G1\", \"G2\", \"G3\", \"G4\", \"G5\"]])\n",
        "conversoes = np.array([dados[key][\"Conversões\"] for key in [\"G1\", \"G2\", \"G3\", \"G4\", \"G5\"]])\n",
        "\n",
        "# Calculando taxas de conversão\n",
        "taxas_conversao = conversoes / sessoes\n",
        "\n",
        "# Calculando média e desvio padrão das taxas de conversão dos grupos (excluindo G4)\n",
        "media_grupos = np.mean(taxas_conversao[[0, 1, 2, 4]])\n",
        "std_grupos = np.std(taxas_conversao[[0, 1, 2, 4]], ddof=1)\n",
        "\n",
        "# Calculando erro padrão\n",
        "n = len(taxas_conversao[[0, 1, 2, 4]])\n",
        "erro_padrao = std_grupos / np.sqrt(n)\n",
        "\n",
        "# Taxa de conversão do G4\n",
        "taxa_conversao_G4 = taxas_conversao[3]\n",
        "\n",
        "# Teste T\n",
        "t_stat, p_value = stats.ttest_1samp(taxas_conversao[[0, 1, 2, 4]], taxa_conversao_G4)\n",
        "\n",
        "t_stat, p_value, erro_padrao\n"
      ],
      "metadata": {
        "colab": {
          "base_uri": "https://localhost:8080/"
        },
        "id": "Yy8ThPOwHaeM",
        "outputId": "239ec496-d58c-46bb-ae8c-fb57dcb2bbf3"
      },
      "execution_count": 1,
      "outputs": [
        {
          "output_type": "execute_result",
          "data": {
            "text/plain": [
              "(-1.2889633705816692, 0.28780746316437533, 0.0018874231574209821)"
            ]
          },
          "metadata": {},
          "execution_count": 1
        }
      ]
    },
    {
      "cell_type": "code",
      "source": [],
      "metadata": {
        "id": "ZHJFe0tCH7rR"
      },
      "execution_count": null,
      "outputs": []
    }
  ]
}